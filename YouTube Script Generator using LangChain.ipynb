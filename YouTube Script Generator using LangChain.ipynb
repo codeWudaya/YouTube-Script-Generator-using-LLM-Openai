{
 "cells": [
  {
   "cell_type": "markdown",
   "id": "15736670",
   "metadata": {},
   "source": [
    "# <center>By💡 Udayabhanu Nayak CSE 2024 🎯</center>"
   ]
  },
  {
   "cell_type": "markdown",
   "id": "09a094d4",
   "metadata": {},
   "source": [
    "# <center>📽️YouTube Script Generator using LangChain and Openai</center>"
   ]
  },
  {
   "cell_type": "markdown",
   "id": "12db2d80",
   "metadata": {},
   "source": [
    "### Import "
   ]
  },
  {
   "cell_type": "code",
   "execution_count": 1,
   "id": "1062c314",
   "metadata": {},
   "outputs": [],
   "source": [
    "import streamlit as st\n",
    "from langchain.llms import OpenAI\n",
    "from langchain.prompts import PromptTemplate\n",
    "from langchain.chains import LLMChain, SequentialChain\n",
    "from langchain.memory import ConversationBufferMemory\n",
    "from langchain.utilities import WikipediaAPIWrapper\n",
    "import os"
   ]
  },
  {
   "cell_type": "markdown",
   "id": "dbe2ed50",
   "metadata": {},
   "source": [
    "### Load Openai API Key"
   ]
  },
  {
   "cell_type": "code",
   "execution_count": 2,
   "id": "5d278d27",
   "metadata": {},
   "outputs": [],
   "source": [
    "os.environ[\"OPENAI_API_KEY\"] = ''  #replace with your api key"
   ]
  },
  {
   "cell_type": "markdown",
   "id": "c98a0645",
   "metadata": {},
   "source": [
    "### Prompt Templates"
   ]
  },
  {
   "cell_type": "code",
   "execution_count": 3,
   "id": "5caa4af6",
   "metadata": {},
   "outputs": [],
   "source": [
    "title_template = PromptTemplate(\n",
    "    input_variables=['topic'],\n",
    "    template='Write me Youtube video title about {topic}'\n",
    ")\n",
    "\n",
    "script_template = PromptTemplate(\n",
    "    input_variables=['title', 'wikipedia_research'],\n",
    "    template='Write me Youtube video script based on this TITLE: {title} while leveraging this wikipedia research: {wikipedia_research}'\n",
    ")"
   ]
  },
  {
   "cell_type": "markdown",
   "id": "c077c684",
   "metadata": {},
   "source": [
    "### Memory"
   ]
  },
  {
   "cell_type": "code",
   "execution_count": 4,
   "id": "1a586306",
   "metadata": {},
   "outputs": [],
   "source": [
    "title_memory = ConversationBufferMemory(input_key='topic', memory_key='chat_history')\n",
    "script_memory = ConversationBufferMemory(input_key='title', memory_key='chat_history')"
   ]
  },
  {
   "cell_type": "markdown",
   "id": "422844de",
   "metadata": {},
   "source": [
    "### LLMs"
   ]
  },
  {
   "cell_type": "code",
   "execution_count": 5,
   "id": "1c056b40",
   "metadata": {},
   "outputs": [
    {
     "name": "stderr",
     "output_type": "stream",
     "text": [
      "C:\\Users\\udaya\\anaconda3\\Lib\\site-packages\\langchain_core\\_api\\deprecation.py:117: LangChainDeprecationWarning: The class `langchain_community.llms.openai.OpenAI` was deprecated in langchain-community 0.0.10 and will be removed in 0.2.0. An updated version of the class exists in the langchain-openai package and should be used instead. To use it run `pip install -U langchain-openai` and import as `from langchain_openai import OpenAI`.\n",
      "  warn_deprecated(\n"
     ]
    }
   ],
   "source": [
    "llm = OpenAI(temperature=0.9)\n",
    "title_chain = LLMChain(llm=llm, prompt=title_template, verbose=True, output_key='title', memory=title_memory)\n",
    "script_chain = LLMChain(llm=llm, prompt=script_template, verbose=True, output_key='script', memory=script_memory)"
   ]
  },
  {
   "cell_type": "code",
   "execution_count": 6,
   "id": "cdebe518",
   "metadata": {},
   "outputs": [],
   "source": [
    "wiki = WikipediaAPIWrapper()"
   ]
  },
  {
   "cell_type": "markdown",
   "id": "b45534ea",
   "metadata": {},
   "source": [
    "### Example prompt"
   ]
  },
  {
   "cell_type": "code",
   "execution_count": 7,
   "id": "11962692",
   "metadata": {},
   "outputs": [],
   "source": [
    "prompt = \"Space exploration\""
   ]
  },
  {
   "cell_type": "markdown",
   "id": "8632e5d7",
   "metadata": {},
   "source": [
    "### Run the chains"
   ]
  },
  {
   "cell_type": "code",
   "execution_count": 8,
   "id": "68857bcd",
   "metadata": {
    "scrolled": true
   },
   "outputs": [
    {
     "name": "stderr",
     "output_type": "stream",
     "text": [
      "C:\\Users\\udaya\\anaconda3\\Lib\\site-packages\\langchain_core\\_api\\deprecation.py:117: LangChainDeprecationWarning: The function `run` was deprecated in LangChain 0.1.0 and will be removed in 0.2.0. Use invoke instead.\n",
      "  warn_deprecated(\n"
     ]
    },
    {
     "name": "stdout",
     "output_type": "stream",
     "text": [
      "\n",
      "\n",
      "\u001b[1m> Entering new LLMChain chain...\u001b[0m\n",
      "Prompt after formatting:\n",
      "\u001b[32;1m\u001b[1;3mWrite me Youtube video title about Space exploration\u001b[0m\n",
      "\n",
      "\u001b[1m> Finished chain.\u001b[0m\n",
      "\n",
      "\n",
      "\u001b[1m> Entering new LLMChain chain...\u001b[0m\n",
      "Prompt after formatting:\n",
      "\u001b[32;1m\u001b[1;3mWrite me Youtube video script based on this TITLE: \n",
      "\n",
      "\"Discovering the Final Frontier: The Fascinating World of Space Exploration\"  while leveraging this wikipedia research: Page: Space exploration\n",
      "Summary: Space exploration is the use of astronomy and space technology to explore outer space. While the exploration of space is currently carried out mainly by astronomers with telescopes, its physical exploration is conducted both by uncrewed robotic space probes and human spaceflight. Space exploration, like its classical form astronomy, is one of the main sources for space science.\n",
      "While the observation of objects in space, known as astronomy, predates reliable recorded history, it was the development of large and relatively efficient rockets during the mid-twentieth century that allowed physical space exploration to become a reality. Common rationales for exploring space include advancing scientific research, national prestige, uniting different nations, ensuring the future survival of humanity, and developing military and strategic advantages against other countries.The early era of space exploration was driven by a \"Space Race\" between the Soviet Union and the United States. A driving force of the start of space exploration was during the Cold War. After the ability to create nuclear weapons, the narrative of defense/offense left land and the power to control the air became the focus. Both the Soviet and the U.S. were fighting to prove their superiority in technology through exploring the unknown: space. In fact, the reason NASA was made was due to the response of Sputnik I. The launch of the first human-made object to orbit Earth, the Soviet Union's Sputnik 1, on 4 October 1957, and the first Moon landing by the American Apollo 11 mission on 20 July 1969 are often taken as landmarks for this initial period. The Soviet space program achieved many of the first milestones, including the first living being in orbit in 1957, the first human spaceflight (Yuri Gagarin aboard Vostok 1) in 1961, the first spacewalk (by Alexei Leonov) on 18 March 1965, the first automatic landing on another celestial body in 1966, and the launch of the first space station (Salyut 1) in 1971. \n",
      "After the first 20 years of exploration, focus shifted from one-off flights to renewable hardware, such as the Space Shuttle program, and from competition to cooperation as with the International Space Station (ISS).\n",
      "With the substantial completion of the ISS following STS-133 in March 2011, plans for space exploration by the U.S. remain in flux. Constellation, a Bush administration program for a return to the Moon by 2020 was judged inadequately funded and unrealistic by an expert review panel reporting in 2009. \n",
      "The Obama administration proposed a revision of Constellation in 2010 to focus on the development of the capability for crewed missions beyond low Earth orbit (LEO), envisioning extending the operation of the ISS beyond 2020, transferring the development of launch vehicles for human crews from NASA to the private sector, and developing technology to enable missions to beyond LEO, such as Earth–Moon L1, the Moon, Earth–Sun L2, near-Earth asteroids, and Phobos or Mars orbit.In the 2000s, China initiated a successful crewed spaceflight program while India launched Chandraayan 1, while the European Union and Japan have also planned future crewed space missions. China, Russia, and Japan have advocated crewed missions to the Moon during the 21st century, while the European Union has advocated crewed missions to both the Moon and Mars during the 20th and 21st century.\n",
      "\n",
      "Page: SpaceX\n",
      "Summary: Space Exploration Technologies Corp. commonly referred to as SpaceX, is an American spacecraft manufacturer, launch service provider, defense contractor and satellite communications company headquartered in Hawthorne, California. The company was founded in 2002 by Elon Musk with the goal of reducing space transportation costs and ultimately developing a sustainable colony on Mars. The company currently operates the Falcon 9 and Falcon Heavy rockets along with the Dragon and Starship spacecraft.\n",
      "The company offers internet service via its Starl\u001b[0m\n",
      "\n",
      "\u001b[1m> Finished chain.\u001b[0m\n"
     ]
    }
   ],
   "source": [
    "title = title_chain.run(prompt)\n",
    "wiki_research = wiki.run(prompt)\n",
    "script = script_chain.run(title=title, wikipedia_research=wiki_research)"
   ]
  },
  {
   "cell_type": "markdown",
   "id": "33717328",
   "metadata": {},
   "source": [
    "### Show result"
   ]
  },
  {
   "cell_type": "code",
   "execution_count": 9,
   "id": "60ec3132",
   "metadata": {},
   "outputs": [
    {
     "name": "stdout",
     "output_type": "stream",
     "text": [
      "Title: \n",
      "\n",
      "\"Discovering the Final Frontier: The Fascinating World of Space Exploration\" \n",
      "Script: ink satellite constellation, which is currently in beta testing. SpaceX has also played a major role in advancing reusable rocket technology, with its first successful landing of a Falcon 9 rocket in 2015 and continued success with its Falcon 9 and Falcon Heavy booster landings on both land and at sea.\n",
      "[Open on footage of a rocket launch into space]\n",
      "\n",
      "Narrator:\n",
      "Space, the final frontier. The vast expanse beyond our planet has always held a fascination for humanity. And over the years, we have made tremendous progress in exploring this unknown realm. Today, we will take a closer look at the fascinating world of space exploration.\n",
      "\n",
      "[Cut to image of Space Exploration page on Wikipedia]\n",
      "\n",
      "Narrator:\n",
      "According to Wikipedia, space exploration is the use of astronomy and space technology to explore outer space. While the observation of objects in space, known as astronomy, has been around for centuries, it was the development of rockets during the mid-20th century that allowed for physical space exploration to become a reality.\n",
      "\n",
      "[Cut to footage of astronauts on the moon]\n",
      "\n",
      "Narrator:\n",
      "The first human mission to the moon in 1969 by the American Apollo 11 mission and the launch of the first artificial satellite by the Soviet Union in 1957 marked significant milestones in the early\n",
      "Wikipedia Research: Page: Space exploration\n",
      "Summary: Space exploration is the use of astronomy and space technology to explore outer space. While the exploration of space is currently carried out mainly by astronomers with telescopes, its physical exploration is conducted both by uncrewed robotic space probes and human spaceflight. Space exploration, like its classical form astronomy, is one of the main sources for space science.\n",
      "While the observation of objects in space, known as astronomy, predates reliable recorded history, it was the development of large and relatively efficient rockets during the mid-twentieth century that allowed physical space exploration to become a reality. Common rationales for exploring space include advancing scientific research, national prestige, uniting different nations, ensuring the future survival of humanity, and developing military and strategic advantages against other countries.The early era of space exploration was driven by a \"Space Race\" between the Soviet Union and the United States. A driving force of the start of space exploration was during the Cold War. After the ability to create nuclear weapons, the narrative of defense/offense left land and the power to control the air became the focus. Both the Soviet and the U.S. were fighting to prove their superiority in technology through exploring the unknown: space. In fact, the reason NASA was made was due to the response of Sputnik I. The launch of the first human-made object to orbit Earth, the Soviet Union's Sputnik 1, on 4 October 1957, and the first Moon landing by the American Apollo 11 mission on 20 July 1969 are often taken as landmarks for this initial period. The Soviet space program achieved many of the first milestones, including the first living being in orbit in 1957, the first human spaceflight (Yuri Gagarin aboard Vostok 1) in 1961, the first spacewalk (by Alexei Leonov) on 18 March 1965, the first automatic landing on another celestial body in 1966, and the launch of the first space station (Salyut 1) in 1971. \n",
      "After the first 20 years of exploration, focus shifted from one-off flights to renewable hardware, such as the Space Shuttle program, and from competition to cooperation as with the International Space Station (ISS).\n",
      "With the substantial completion of the ISS following STS-133 in March 2011, plans for space exploration by the U.S. remain in flux. Constellation, a Bush administration program for a return to the Moon by 2020 was judged inadequately funded and unrealistic by an expert review panel reporting in 2009. \n",
      "The Obama administration proposed a revision of Constellation in 2010 to focus on the development of the capability for crewed missions beyond low Earth orbit (LEO), envisioning extending the operation of the ISS beyond 2020, transferring the development of launch vehicles for human crews from NASA to the private sector, and developing technology to enable missions to beyond LEO, such as Earth–Moon L1, the Moon, Earth–Sun L2, near-Earth asteroids, and Phobos or Mars orbit.In the 2000s, China initiated a successful crewed spaceflight program while India launched Chandraayan 1, while the European Union and Japan have also planned future crewed space missions. China, Russia, and Japan have advocated crewed missions to the Moon during the 21st century, while the European Union has advocated crewed missions to both the Moon and Mars during the 20th and 21st century.\n",
      "\n",
      "Page: SpaceX\n",
      "Summary: Space Exploration Technologies Corp. commonly referred to as SpaceX, is an American spacecraft manufacturer, launch service provider, defense contractor and satellite communications company headquartered in Hawthorne, California. The company was founded in 2002 by Elon Musk with the goal of reducing space transportation costs and ultimately developing a sustainable colony on Mars. The company currently operates the Falcon 9 and Falcon Heavy rockets along with the Dragon and Starship spacecraft.\n",
      "The company offers internet service via its Starl\n"
     ]
    }
   ],
   "source": [
    "print(\"Title:\", title)\n",
    "print(\"Script:\", script)\n",
    "print(\"Wikipedia Research:\", wiki_research)"
   ]
  },
  {
   "cell_type": "markdown",
   "id": "b0dbda9d",
   "metadata": {},
   "source": [
    "\n",
    "### View history\n"
   ]
  },
  {
   "cell_type": "code",
   "execution_count": 10,
   "id": "f0386d6e",
   "metadata": {},
   "outputs": [
    {
     "name": "stdout",
     "output_type": "stream",
     "text": [
      "Title History: Human: Space exploration\n",
      "AI: \n",
      "\n",
      "\"Discovering the Final Frontier: The Fascinating World of Space Exploration\" \n",
      "Script History: Human: \n",
      "\n",
      "\"Discovering the Final Frontier: The Fascinating World of Space Exploration\" \n",
      "AI: ink satellite constellation, which is currently in beta testing. SpaceX has also played a major role in advancing reusable rocket technology, with its first successful landing of a Falcon 9 rocket in 2015 and continued success with its Falcon 9 and Falcon Heavy booster landings on both land and at sea.\n",
      "[Open on footage of a rocket launch into space]\n",
      "\n",
      "Narrator:\n",
      "Space, the final frontier. The vast expanse beyond our planet has always held a fascination for humanity. And over the years, we have made tremendous progress in exploring this unknown realm. Today, we will take a closer look at the fascinating world of space exploration.\n",
      "\n",
      "[Cut to image of Space Exploration page on Wikipedia]\n",
      "\n",
      "Narrator:\n",
      "According to Wikipedia, space exploration is the use of astronomy and space technology to explore outer space. While the observation of objects in space, known as astronomy, has been around for centuries, it was the development of rockets during the mid-20th century that allowed for physical space exploration to become a reality.\n",
      "\n",
      "[Cut to footage of astronauts on the moon]\n",
      "\n",
      "Narrator:\n",
      "The first human mission to the moon in 1969 by the American Apollo 11 mission and the launch of the first artificial satellite by the Soviet Union in 1957 marked significant milestones in the early\n"
     ]
    }
   ],
   "source": [
    "print(\"Title History:\", title_memory.buffer)\n",
    "print(\"Script History:\", script_memory.buffer)"
   ]
  },
  {
   "cell_type": "markdown",
   "id": "fd56a1ae",
   "metadata": {},
   "source": [
    "# <center>Thank You 😊</center>"
   ]
  }
 ],
 "metadata": {
  "kernelspec": {
   "display_name": "Python 3 (ipykernel)",
   "language": "python",
   "name": "python3"
  },
  "language_info": {
   "codemirror_mode": {
    "name": "ipython",
    "version": 3
   },
   "file_extension": ".py",
   "mimetype": "text/x-python",
   "name": "python",
   "nbconvert_exporter": "python",
   "pygments_lexer": "ipython3",
   "version": "3.11.5"
  }
 },
 "nbformat": 4,
 "nbformat_minor": 5
}
